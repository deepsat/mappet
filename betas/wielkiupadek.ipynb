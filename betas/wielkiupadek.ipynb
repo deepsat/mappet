{
 "cells": [
  {
   "cell_type": "code",
   "execution_count": 5,
   "metadata": {},
   "outputs": [],
   "source": [
    "from math import *\n",
    "\n",
    "x = None\n",
    "t = 0\n",
    "h = 1000\n",
    "v_v = 5\n",
    "v_h = 5\n",
    "α = radians(48.8 / 2)\n",
    "z = 0.5\n",
    "# α = radians(62.2 / 2)"
   ]
  },
  {
   "cell_type": "code",
   "execution_count": 6,
   "metadata": {
    "scrolled": true
   },
   "outputs": [
    {
     "name": "stdout",
     "output_type": "stream",
     "text": [
      "687.9374999952582 62.41250000094835\n",
      "473.2579999881317 42.93590000142532\n",
      "325.57149998322893 29.537300000980537\n",
      "223.97249997985625 20.319800000674547\n",
      "154.078999977536 13.978700000464045\n",
      "105.99649997593986 9.616500000319235\n",
      "done\n",
      "1.4536204233769676\n",
      "1.4536204353914994\n",
      "1.4536223226311593\n",
      "1.4536226546228235\n",
      "1.4536211944035877\n",
      "6\n"
     ]
    }
   ],
   "source": [
    "H = []\n",
    "while h - v_v*t >= 150:\n",
    "    H.append(h - v_v*t)\n",
    "    t0 = t\n",
    "    x1 = v_h*t + (h - v_v*t)*tan(α) * (0.5 - z)\n",
    "    while h - v_v*t >= 0 and x1 >= v_h*t - (h - v_v*t)*tan(α):\n",
    "        # print(x1, v_h*t - (h - v_v*t)*tan(α))\n",
    "        t += 1e-4\n",
    "    print(h - v_v*t, t - t0)\n",
    "print(\"done\")\n",
    "for i in range(len(H)-1):\n",
    "    print(H[i] / H[i+1])\n",
    "print(len(H))"
   ]
  },
  {
   "cell_type": "code",
   "execution_count": 34,
   "metadata": {},
   "outputs": [
    {
     "name": "stdout",
     "output_type": "stream",
     "text": [
      "1.4516829115034298\n"
     ]
    }
   ],
   "source": [
    "\n",
    "print(1 + 0.75 * (1 - tan(α)) / (2*tan(α)))"
   ]
  }
 ],
 "metadata": {
  "kernelspec": {
   "display_name": "Python 3",
   "language": "python",
   "name": "python3"
  },
  "language_info": {
   "codemirror_mode": {
    "name": "ipython",
    "version": 3
   },
   "file_extension": ".py",
   "mimetype": "text/x-python",
   "name": "python",
   "nbconvert_exporter": "python",
   "pygments_lexer": "ipython3",
   "version": "3.9.1"
  }
 },
 "nbformat": 4,
 "nbformat_minor": 4
}
